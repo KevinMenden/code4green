{
 "cells": [
  {
   "cell_type": "markdown",
   "metadata": {},
   "source": [
    "# Wisely Prediction Performance\n",
    "\n",
    "In this Notebook, we will have a quick look at how good Wisely really is in predicting the energy generation when given the weather data.\n",
    "\n",
    "We want to stress that this is really just a proof-of-concept, as later iterations of the model will include different data. This will include weather forecast data which includes more error than the historic weather data we use here, but it will also include many more values that might allow for better predictions. We expect Wisely to work at least as good as in our proof-of-concept."
   ]
  },
  {
   "cell_type": "markdown",
   "metadata": {},
   "source": [
    "### Data loading and processing"
   ]
  },
  {
   "cell_type": "code",
   "execution_count": 31,
   "metadata": {},
   "outputs": [],
   "source": [
    "import pandas as pd\n",
    "import seaborn as sns\n",
    "import numpy as np\n",
    "from sklearn.linear_model import LinearRegression\n",
    "from sklearn.model_selection import train_test_split, cross_val_score\n",
    "\n",
    "# Load the datasets\n",
    "weather_path = \"../opsd-weather_data-2019-04-09/weather_data.csv\"\n",
    "wdf = pd.read_csv(weather_path)\n",
    "\n",
    "ts_path = \"../opsd-time_series-2019-06-05/time_series_60min_singleindex.csv\"\n",
    "edf = pd.read_csv(ts_path)\n",
    "\n",
    "# Look for matching timestamps\n",
    "def intersection(lst1, lst2): \n",
    "    return list(set(lst1) & set(lst2)) \n",
    "timestamps = intersection(list(edf.utc_timestamp), list(wdf.utc_timestamp))\n",
    "\n",
    "# Filter for timestamps that are common to both datasetes\n",
    "edf = edf[edf.utc_timestamp.isin(timestamps)]\n",
    "wdf = wdf[wdf.utc_timestamp.isin(timestamps)]\n",
    "edf = edf.sort_values(by='utc_timestamp')\n",
    "wdf = wdf.sort_values(by='utc_timestamp')\n",
    "\n",
    "# Only keep recent data from 2016\n",
    "edf = edf.loc[edf.utc_timestamp.str.startswith(\"2016\")]\n",
    "wdf = wdf.loc[wdf.utc_timestamp.str.startswith('2016')]\n",
    "\n",
    "edf.index = edf.utc_timestamp\n",
    "wdf.index = wdf.utc_timestamp\n",
    "\n",
    "# Only use german values for demo\n",
    "wdf = wdf.filter(regex='DE_*', axis=1)\n",
    "edf = edf.filter(regex='DE_*', axis=1)\n",
    "\n",
    "# Some data cleaning (remove NaNs)\n",
    "# Remove any dates where we have NaNs in the data\n",
    "keep_cols = ['DE_wind_onshore_generation_actual', 'DE_wind_offshore_generation_actual', 'DE_solar_generation_actual', 'DE_load_forecast_entsoe_transparency']\n",
    "edf = edf[keep_cols]\n",
    "keep_rows = edf.isnull().any(axis=1)\n",
    "keep_rows = [not x for x in keep_rows]\n",
    "edf = edf.loc[keep_rows]\n",
    "wdf = wdf.loc[keep_rows]"
   ]
  },
  {
   "cell_type": "markdown",
   "metadata": {},
   "source": [
    "# Perform cross-validation with wind and solar prediction models\n",
    "Cross-validation allows to get accurate prediction results for our data and to test for potential overfitting"
   ]
  },
  {
   "cell_type": "code",
   "execution_count": 32,
   "metadata": {},
   "outputs": [],
   "source": [
    "# Set up X and y data\n",
    "wind_x = wdf.copy()\n",
    "wind_x = np.array(wind_x.filter(regex='windspeed_10m'))\n",
    "wind_y = np.array(edf.copy().DE_wind_onshore_generation_actual)\n",
    "\n",
    "# Regression model\n",
    "wind_model = LinearRegression()\n",
    "\n",
    "# Perform cross validation\n",
    "results_wind = []\n",
    "for i in range(10):\n",
    "    tmp = cross_val_score(wind_model, wind_x, wind_y, cv=10)\n",
    "    results_wind += list(tmp)"
   ]
  },
  {
   "cell_type": "code",
   "execution_count": 33,
   "metadata": {},
   "outputs": [],
   "source": [
    "# Set up Solar X and y\n",
    "solar_x = np.array(wdf.copy())\n",
    "solar_y = np.array(edf.copy().DE_solar_generation_actual)\n",
    "\n",
    "# Regression model\n",
    "solar_model = LinearRegression()\n",
    "\n",
    "# Perform cross validation\n",
    "results_solar = []\n",
    "for i in range(10):\n",
    "    tmp = cross_val_score(solar_model, solar_x, solar_y, cv=10)\n",
    "    results_solar += list(tmp)\n"
   ]
  },
  {
   "cell_type": "code",
   "execution_count": 36,
   "metadata": {},
   "outputs": [
    {
     "data": {
      "image/png": "[encoded data removed]",
      "text/plain": [
       "<Figure size 432x288 with 1 Axes>"
      ]
     },
     "metadata": {
      "needs_background": "light"
     },
     "output_type": "display_data"
    }
   ],
   "source": [
    "error = results_wind + results_solar\n",
    "source = ['Wind'] * len(results_wind) + ['Solar'] * len(results_solar)\n",
    "\n",
    "df = pd.DataFrame({'R2': error, 'Source': source})\n",
    "\n",
    "fig = sns.boxplot(x='Source', y='R2', data=df)\n"
   ]
  },
  {
   "cell_type": "markdown",
   "metadata": {},
   "source": [
    "As can be seen from the figure above, the prediction model works achieves higher R2 values for solar data, but also performs quite well for wind data. Of course there are some outliers - but there's always room for improvement!"
   ]
  },
  {
   "cell_type": "code",
   "execution_count": null,
   "metadata": {},
   "outputs": [],
   "source": []
  }
 ],
 "metadata": {
  "kernelspec": {
   "display_name": "Python [conda env:green] *",
   "language": "python",
   "name": "conda-env-green-py"
  },
  "language_info": {
   "codemirror_mode": {
    "name": "ipython",
    "version": 3
   },
   "file_extension": ".py",
   "mimetype": "text/x-python",
   "name": "python",
   "nbconvert_exporter": "python",
   "pygments_lexer": "ipython3",
   "version": "3.6.10"
  }
 },
 "nbformat": 4,
 "nbformat_minor": 4
}
